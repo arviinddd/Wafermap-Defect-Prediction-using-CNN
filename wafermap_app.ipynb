{
 "cells": [
  {
   "cell_type": "code",
   "execution_count": 10,
   "id": "c6daf006-d31c-4658-862c-c411360175af",
   "metadata": {
    "tags": []
   },
   "outputs": [
    {
     "name": "stdout",
     "output_type": "stream",
     "text": [
      "Overwriting app.py\n"
     ]
    }
   ],
   "source": [
    "%%writefile app.py\n",
    "from flask import Flask, request, jsonify\n",
    "from tensorflow.keras.models import load_model\n",
    "import numpy as np\n",
    "import base64\n",
    "from PIL import Image\n",
    "from io import BytesIO\n",
    "\n",
    "app = Flask(__name__)\n",
    "\n",
    "# Load the pre-trained Keras model\n",
    "model = load_model('wafermap.keras')\n",
    "\n",
    "@app.route('/predict', methods=['POST'])\n",
    "def predict():\n",
    "    data = request.get_json(force=True)\n",
    "    \n",
    "    # Decode the base64 image data to an image\n",
    "    images_data = data['images']  # Assume this is a list of base64 encoded strings\n",
    "    images = np.array([decode_image(base64_str) for base64_str in images_data])\n",
    "\n",
    "    # Extract numerical data from JSON\n",
    "    numerical_data = np.array([data['dieSize'], data['waferMapDim_x'], data['waferMapDim_y']])\n",
    "    \n",
    "    # Reshape numerical data if necessary\n",
    "    numerical_data = numerical_data.reshape(1, -1)  # Assuming a single prediction\n",
    "\n",
    "    # Make prediction using the preprocessed image data and numerical data\n",
    "    predictions = model.predict([images, numerical_data])\n",
    "    return jsonify(predictions.tolist())\n",
    "\n",
    "def decode_image(base64_str):\n",
    "    # Decode the base64 string\n",
    "    img_data = base64.b64decode(base64_str)\n",
    "    # Convert binary data to image\n",
    "    img = Image.open(BytesIO(img_data))\n",
    "    # Convert image to grayscale\n",
    "    img = img.convert('L')\n",
    "    # Resize the image as required by your model\n",
    "    img = img.resize((32, 32))\n",
    "    img_array = np.array(img)\n",
    "    # Ensure the image has the shape (32, 32, 1)\n",
    "    img_array = img_array.reshape(32, 32, 1)\n",
    "    return img_array\n",
    "\n",
    "if __name__ == '__main__':\n",
    "    app.run(debug=True, host='0.0.0.0', port=5000)"
   ]
  },
  {
   "cell_type": "code",
   "execution_count": 12,
   "id": "9a3dcd58-f314-437c-a20c-f054cc7b5534",
   "metadata": {
    "tags": []
   },
   "outputs": [
    {
     "name": "stdout",
     "output_type": "stream",
     "text": [
      "Overwriting Dockerfile\n"
     ]
    }
   ],
   "source": [
    "%%writefile Dockerfile\n",
    "# Use an official Python runtime as a parent image\n",
    "FROM python:3.8-slim\n",
    "\n",
    "# Set the working directory to /app\n",
    "WORKDIR /app\n",
    "\n",
    "# Copy the current directory contents into the container at /app\n",
    "COPY . /app\n",
    "\n",
    "# Install any needed packages specified in requirements.txt\n",
    "RUN pip install --no-cache-dir -r requirements.txt\n",
    "\n",
    "# Make port 5000 available to the world outside this container\n",
    "EXPOSE 5000\n",
    "\n",
    "# Define environment variable\n",
    "ENV NAME World\n",
    "\n",
    "# Run app.py when the container launches\n",
    "CMD [\"python\", \"app.py\"]\n"
   ]
  },
  {
   "cell_type": "code",
   "execution_count": 14,
   "id": "37ccd015-c50c-47b4-9b90-0369145f1f9f",
   "metadata": {
    "tags": []
   },
   "outputs": [
    {
     "name": "stdout",
     "output_type": "stream",
     "text": [
      "Overwriting deployment.yaml\n"
     ]
    }
   ],
   "source": [
    "%%writefile deployment.yaml\n",
    "apiVersion: apps/v1\n",
    "kind: Deployment\n",
    "metadata:\n",
    "  name: flask-model-deployment\n",
    "spec:\n",
    "  replicas: 3\n",
    "  selector:\n",
    "    matchLabels:\n",
    "      app: flask-model\n",
    "  template:\n",
    "    metadata:\n",
    "      labels:\n",
    "        app: flask-model\n",
    "    spec:\n",
    "      containers:\n",
    "      - name: flask-model\n",
    "        image: arvindprashanth:app\n",
    "        ports:\n",
    "        - containerPort: 5000\n"
   ]
  },
  {
   "cell_type": "code",
   "execution_count": 16,
   "id": "171c2c67-c59e-4586-bb60-a4c3e0a34978",
   "metadata": {
    "tags": []
   },
   "outputs": [
    {
     "name": "stdout",
     "output_type": "stream",
     "text": [
      "Overwriting service.yaml\n"
     ]
    }
   ],
   "source": [
    "%%writefile service.yaml\n",
    "apiVersion: v1\n",
    "kind: Service\n",
    "metadata:\n",
    "  name: flask-model-service\n",
    "spec:\n",
    "  type: LoadBalancer\n",
    "  ports:\n",
    "  - port: 5000\n",
    "    targetPort: 5000\n",
    "  selector:\n",
    "    app: flask-model\n"
   ]
  },
  {
   "cell_type": "code",
   "execution_count": null,
   "id": "b209d688-fbeb-49d1-bfb5-1ab1854c8004",
   "metadata": {},
   "outputs": [],
   "source": []
  },
  {
   "cell_type": "code",
   "execution_count": null,
   "id": "b698be8c-3f16-4bf7-9b9c-ca92e4846998",
   "metadata": {},
   "outputs": [],
   "source": []
  }
 ],
 "metadata": {
  "kernelspec": {
   "display_name": "Python 3 (ipykernel)",
   "language": "python",
   "name": "python3"
  },
  "language_info": {
   "codemirror_mode": {
    "name": "ipython",
    "version": 3
   },
   "file_extension": ".py",
   "mimetype": "text/x-python",
   "name": "python",
   "nbconvert_exporter": "python",
   "pygments_lexer": "ipython3",
   "version": "3.11.8"
  }
 },
 "nbformat": 4,
 "nbformat_minor": 5
}
